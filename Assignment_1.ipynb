{
  "cells": [
    {
      "cell_type": "markdown",
      "metadata": {
        "id": "iMp67xR0AIhB"
      },
      "source": [
        "Assignment 1.1"
      ]
    },
    {
      "cell_type": "code",
      "execution_count": 1,
      "metadata": {
        "colab": {
          "base_uri": "https://localhost:8080/"
        },
        "id": "hcG9VzCCAIhG",
        "outputId": "8166d8e3-64da-4116-994b-37bf9e6570cd"
      },
      "outputs": [
        {
          "output_type": "stream",
          "name": "stdout",
          "text": [
            "Kritika\n",
            "Kritika\n",
            "Kritika\n"
          ]
        }
      ],
      "source": [
        "print(\"Kritika\")\n",
        "print(\"Kritika\")\n",
        "print(\"Kritika\")"
      ]
    },
    {
      "cell_type": "markdown",
      "metadata": {
        "id": "1ElLH8YgAIhI"
      },
      "source": [
        "Assignment 2.1"
      ]
    },
    {
      "cell_type": "code",
      "execution_count": 2,
      "metadata": {
        "colab": {
          "base_uri": "https://localhost:8080/"
        },
        "id": "zU3RRNAZAIhI",
        "outputId": "301c9176-7ecd-4d60-93da-44621f70f8cd"
      },
      "outputs": [
        {
          "output_type": "stream",
          "name": "stdout",
          "text": [
            "91\n"
          ]
        }
      ],
      "source": [
        "a = 12\n",
        "b = 23\n",
        "c = 56\n",
        "add = a+b+c\n",
        "print(add)"
      ]
    },
    {
      "cell_type": "markdown",
      "metadata": {
        "id": "gPYuqEWvAIhJ"
      },
      "source": [
        "Assignment 2.2"
      ]
    },
    {
      "cell_type": "code",
      "execution_count": 3,
      "metadata": {
        "colab": {
          "base_uri": "https://localhost:8080/"
        },
        "id": "BXQQ9AWnAIhJ",
        "outputId": "a187dbc8-87ca-494d-f038-a3f5dfc54977"
      },
      "outputs": [
        {
          "output_type": "stream",
          "name": "stdout",
          "text": [
            "Kritika Kandhari\n"
          ]
        }
      ],
      "source": [
        "a = \"Kritika\"\n",
        "b = \" \"\n",
        "c = \"Kandhari\"\n",
        "name = a+b+c\n",
        "print(name)"
      ]
    },
    {
      "cell_type": "markdown",
      "metadata": {
        "id": "rsbI3pe6AIhK"
      },
      "source": [
        "Assignment 4.1"
      ]
    },
    {
      "cell_type": "code",
      "execution_count": null,
      "metadata": {
        "id": "FM96o2uQAIhK"
      },
      "outputs": [],
      "source": [
        "for i in range (7,7*11,7):\n",
        "    print(i)\n",
        "\n",
        "print(\"\\n\")\n",
        "a=9\n",
        "while a <= 90 :\n",
        "    print(a)\n",
        "    a += 9\n"
      ]
    },
    {
      "cell_type": "markdown",
      "metadata": {
        "id": "mBrW0DnmAIhL"
      },
      "source": [
        "Assignment 4.2"
      ]
    },
    {
      "cell_type": "code",
      "execution_count": null,
      "metadata": {
        "id": "7bQXSnblAIhM"
      },
      "outputs": [],
      "source": [
        "n = int(input(\"Enter number whose table you wanna know\"))\n",
        "for i in range (n,n*11,n):\n",
        "    print(i)"
      ]
    },
    {
      "cell_type": "markdown",
      "metadata": {
        "id": "VxTZoIy1AIhN"
      },
      "source": [
        "Assignment 4.3"
      ]
    },
    {
      "cell_type": "code",
      "execution_count": null,
      "metadata": {
        "id": "SE2I9cH5AIhN",
        "outputId": "d885fe21-445b-4af0-eea1-dedb8f7c4def"
      },
      "outputs": [
        {
          "name": "stdout",
          "output_type": "stream",
          "text": [
            "15\n"
          ]
        }
      ],
      "source": [
        "n = int(input(\"Enter n to find sum of first n natural numbers\"))\n",
        "add=0\n",
        "for i in range (1,n+1) :\n",
        "     add += i\n",
        "print(add)"
      ]
    },
    {
      "cell_type": "markdown",
      "metadata": {
        "id": "HeowbPP8AIhR"
      },
      "source": [
        "Assignment 5.1"
      ]
    },
    {
      "cell_type": "code",
      "execution_count": null,
      "metadata": {
        "id": "OQvsBTBeAIhS",
        "outputId": "3244bb23-e3b0-48cf-9c5d-0e1f6ab26c97"
      },
      "outputs": [
        {
          "name": "stdout",
          "output_type": "stream",
          "text": [
            "2222\n"
          ]
        }
      ],
      "source": [
        "a=int(input(\"Enter no. 1\"))\n",
        "b=int(input(\"Enter no. 2\"))\n",
        "c=int(input(\"Enter no. 3\"))\n",
        "maxi = max(a,b,c)\n",
        "print(maxi)"
      ]
    },
    {
      "cell_type": "markdown",
      "metadata": {
        "id": "MnrnUFSHAIhT"
      },
      "source": [
        "Assignment 5.2"
      ]
    },
    {
      "cell_type": "code",
      "execution_count": null,
      "metadata": {
        "id": "vliLcXWTAIhT"
      },
      "outputs": [],
      "source": [
        "n = int(input(\"Enter no. n\"))\n",
        "sum1=0\n",
        "for i in range(1,n+1):\n",
        "    if i%7 == 0 and i%9 == 0 :\n",
        "        sum1 += i\n",
        "print(sum1)\n"
      ]
    },
    {
      "cell_type": "markdown",
      "metadata": {
        "id": "BYtkw0NSAIhU"
      },
      "source": [
        "Assignment 5.3"
      ]
    },
    {
      "cell_type": "code",
      "execution_count": null,
      "metadata": {
        "id": "geiCOG58AIhU"
      },
      "outputs": [],
      "source": [
        "n = int(input(\"Enter any number\"))\n",
        "sum1=0\n",
        "def isPrime(i):\n",
        "    if i==1 :\n",
        "        return False\n",
        "    for j in range(2,i//2+1):\n",
        "        if i%j==0:\n",
        "            return False\n",
        "\n",
        "    return True\n",
        "\n",
        "\n",
        "for i in range(1,n+1):\n",
        "    if isPrime(i) :\n",
        "        sum1 += i\n",
        "        print(i)\n",
        "print(sum1)\n"
      ]
    },
    {
      "cell_type": "markdown",
      "metadata": {
        "id": "LdflFR8lAIhV"
      },
      "source": [
        "Assignment 6.1"
      ]
    },
    {
      "cell_type": "code",
      "execution_count": null,
      "metadata": {
        "id": "bypxMOZ7AIhV",
        "outputId": "2d4203ea-0da1-4b5a-8a8f-70d8975fe0fd"
      },
      "outputs": [
        {
          "name": "stdout",
          "output_type": "stream",
          "text": [
            "9\n"
          ]
        }
      ],
      "source": [
        "def addOdd(n):\n",
        "    sum1=0\n",
        "    for i in range(1,n+1):\n",
        "        if i%2 != 0:\n",
        "            sum1 += i\n",
        "    return sum1\n",
        "n = int(input(\"Enter n\"))\n",
        "print(addOdd(n))"
      ]
    },
    {
      "cell_type": "markdown",
      "metadata": {
        "id": "O9eCwJXTAIhW"
      },
      "source": [
        "Assignment 6.2"
      ]
    },
    {
      "cell_type": "code",
      "execution_count": null,
      "metadata": {
        "id": "K7EmZrcqAIhW"
      },
      "outputs": [],
      "source": [
        "def addPrime(n):\n",
        "    sum1=0\n",
        "\n",
        "    for i in range(2,n+1):\n",
        "        f=0\n",
        "        for j in range(2,i//2+1):\n",
        "            if i%j==0:\n",
        "                f=1\n",
        "                break\n",
        "        if f==0:\n",
        "            sum1 += i\n",
        "            print(i)\n",
        "    return sum1\n",
        "\n",
        "n = int(input(\"Enter no.\"))\n",
        "print(addPrime(n))"
      ]
    }
  ],
  "metadata": {
    "kernelspec": {
      "display_name": "Python 3",
      "language": "python",
      "name": "python3"
    },
    "language_info": {
      "codemirror_mode": {
        "name": "ipython",
        "version": 3
      },
      "file_extension": ".py",
      "mimetype": "text/x-python",
      "name": "python",
      "nbconvert_exporter": "python",
      "pygments_lexer": "ipython3",
      "version": "3.12.3"
    },
    "colab": {
      "provenance": []
    }
  },
  "nbformat": 4,
  "nbformat_minor": 0
}