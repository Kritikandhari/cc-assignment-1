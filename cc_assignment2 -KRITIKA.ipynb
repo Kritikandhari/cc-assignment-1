{
  "cells": [
    {
      "cell_type": "markdown",
      "metadata": {
        "colab_type": "text",
        "id": "view-in-github"
      },
      "source": [
        "<a href=\"https://colab.research.google.com/github/Ridhi004/UCS420/blob/main/cc_assignment2.ipynb\" target=\"_parent\"><img src=\"https://colab.research.google.com/assets/colab-badge.svg\" alt=\"Open In Colab\"/></a>"
      ]
    },
    {
      "cell_type": "code",
      "execution_count": null,
      "metadata": {
        "id": "G72XHuaPct3g"
      },
      "outputs": [],
      "source": []
    },
    {
      "cell_type": "markdown",
      "metadata": {
        "id": "HcqXErXHd8MG"
      },
      "source": [
        "1: Create a List L that is defined as= [10, 20, 30, 40, 50, 60, 70, 80]. i. WAP to add 200 and 300 to L. ii. WAP to remove 10 and 30 from L. iii. WAP to sort L in ascending order. iv. WAP to sort L in descending order."
      ]
    },
    {
      "cell_type": "code",
      "execution_count": null,
      "metadata": {
        "colab": {
          "base_uri": "https://localhost:8080/"
        },
        "id": "jO59M89pd6lz",
        "outputId": "ee243bd6-4b2d-4ccb-edc2-5351acf6281f"
      },
      "outputs": [],
      "source": [
        "L=[10,20,30,40,50,60,70,80]\n",
        "L.append(200)\n",
        "L.append(300)\n",
        "print(\"after 1\",L)\n",
        "L.remove(10)\n",
        "L.remove(30)\n",
        "print(\"after 2\",L)\n",
        "L.sort()\n",
        "print(\"after 3\",L)\n",
        "L.sort(reverse=True)\n",
        "print(\"after 4 \",L)\n"
      ]
    },
    {
      "cell_type": "markdown",
      "metadata": {
        "id": "eNNd5aXrfRcr"
      },
      "source": [
        "2: Create a tuple of marks scored as scores = (45, 89.5, 76, 45.4, 89, 92, 58, 45) and perform the following operations using tuple functions: i. Identify the highest score and its index in the tuple. ii. Find the lowest score and count how many times it appears. iii. Reverse the tuple and return it as a list. iv. Check if a specific score ‘76’ (input by the user) is present in the tuple and print its first occurrence index, or a message saying it’s not present."
      ]
    },
    {
      "cell_type": "code",
      "execution_count": null,
      "metadata": {
        "colab": {
          "base_uri": "https://localhost:8080/"
        },
        "id": "4wq1IaeFfZPi",
        "outputId": "2e681005-5c53-497c-9366-ae5592545f22"
      },
      "outputs": [],
      "source": [
        "t=(45, 89.5, 76, 45.4, 89, 92, 58, 45)\n",
        "\n",
        "print(max(t))\n",
        "print(t.index(max(t)))\n",
        "print(min(t))\n",
        "print(t.count(min(t)))\n",
        "lst=list(t[::-1])\n",
        "print(lst)\n",
        "n=int(input(\"enter the number\"))\n",
        "if(t.count(n)):\n",
        "  print( t.index(n))\n",
        "else:\n",
        "  print(\"Not present\")\n",
        "\n"
      ]
    },
    {
      "cell_type": "markdown",
      "metadata": {
        "id": "N1jVJsyzfUvx"
      },
      "source": [
        "**3**: WAP to create a list of 100 random numbers between 100 and 900. Count and print the: i. All odd numbers ii. All even numbers iii. All prime numbers"
      ]
    },
    {
      "cell_type": "code",
      "execution_count": null,
      "metadata": {
        "colab": {
          "base_uri": "https://localhost:8080/"
        },
        "id": "bwloDur1p8z2",
        "outputId": "1eb3e2e4-a9fb-41a6-a480-a0ffac5daa24"
      },
      "outputs": [],
      "source": [
        "import random\n",
        "random_nums=[random.randint(101,899) for i in range(100)]\n",
        "#print(random_nums)\n",
        "cnt=0\n",
        "for i in random_nums:\n",
        "  if(i%2==1):\n",
        "    cnt+=1;\n",
        "    print(i,end=\" \")\n",
        "print(\"\\n\")\n",
        "print(\"count of odd no = \",cnt)\n",
        "cnte=0\n",
        "for i in random_nums:\n",
        "  if(i%2==0):\n",
        "    cnte+=1;\n",
        "    print(i,end=\" \")\n",
        "print(\"\\n\")\n",
        "print(\"count of even no = \",cnte)\n",
        "def is_prime(n):\n",
        "  if(n<=1):\n",
        "    return False\n",
        "  for i in range(2,n//2,1):\n",
        "    if(n%i==0):\n",
        "      return False\n",
        "  return True\n",
        "prime_numbers = [num for num in random_nums if is_prime(num)]\n",
        "print(\"Prime numbers:\", prime_numbers)\n",
        "print(len(prime_numbers))\n"
      ]
    },
    {
      "cell_type": "markdown",
      "metadata": {
        "id": "hYv6lGhsyUUi"
      },
      "source": [
        " **4**: Consider the following two sets, A and B, representing scores of two teams in multiple matches. A = {34, 56, 78, 90} and B = {78, 45, 90, 23} WAP to perform the following operations using set funcƟons: i. Find the unique scores achieved by both teams (union of sets). ii. Identify the scores that are common to both teams (intersection of sets). iii. Find the scores that are exclusive to each team (symmetric difference). iv. Check if the scores of team A are a subset of team B, and if team B's scores are a superset of team A. v. Remove a specific score X (input by the user) from set A if it exists. If not, print a message saying it is not present."
      ]
    },
    {
      "cell_type": "code",
      "execution_count": null,
      "metadata": {
        "colab": {
          "base_uri": "https://localhost:8080/"
        },
        "id": "tMMlqlgvyV0X",
        "outputId": "2c65a7dd-2147-4b1e-b7d8-19380e4f6179"
      },
      "outputs": [],
      "source": [
        "A = {34, 56, 78, 90}\n",
        "B = {78, 45, 90, 23}\n",
        "print(A.union(B))\n",
        "print(A.intersection(B))\n",
        "print(A.difference(B))\n",
        "print(B.difference(A))\n",
        "print(A.symmetric_difference(B))\n",
        "if(A.issubset(B)):\n",
        "  print(\"A is subset of B\")\n",
        "else:\n",
        "  print(\"A is not subset of B\")\n",
        "if(B.issuperset(A)):\n",
        "  print(\"B is superset of A\")\n",
        "else:\n",
        "  print(\"B is not superset of A\")\n",
        "x=int(input(\"enter the number\"))\n",
        "if(x in A):\n",
        "  A.remove(x)\n",
        "  print(\"x is removed from A\")\n",
        "  print(A)\n",
        "else:\n",
        "  print(x ,\" is not present in A\")"
      ]
    },
    {
      "cell_type": "markdown",
      "metadata": {
        "id": "D2TiLPeAz5gj"
      },
      "source": [
        "**5**: Write a program to rename a key city to a location in the following dictionary."
      ]
    },
    {
      "cell_type": "code",
      "execution_count": null,
      "metadata": {
        "colab": {
          "base_uri": "https://localhost:8080/"
        },
        "id": "Gxy6q-A0z7gb",
        "outputId": "679c491f-bb59-4c0e-ba9b-dcfdab5d49d5"
      },
      "outputs": [],
      "source": [
        "sample_dict={\"name\":\"kritika\",\n",
        "            \"age\":20,\n",
        "            \"salary\":9000,\n",
        "            \"city\":\"amritsar\"}\n",
        "sample_dict[\"location\"]=sample_dict.pop(\"city\")\n",
        "print(sample_dict)\n",
        "\n"
      ]
    },
    {
      "cell_type": "code",
      "execution_count": null,
      "metadata": {},
      "outputs": [],
      "source": []
    }
  ],
  "metadata": {
    "colab": {
      "include_colab_link": true,
      "provenance": []
    },
    "kernelspec": {
      "display_name": "Python 3",
      "name": "python3"
    },
    "language_info": {
      "codemirror_mode": {
        "name": "ipython",
        "version": 3
      },
      "file_extension": ".py",
      "mimetype": "text/x-python",
      "name": "python",
      "nbconvert_exporter": "python",
      "pygments_lexer": "ipython3",
      "version": "3.11.9"
    }
  },
  "nbformat": 4,
  "nbformat_minor": 0
}
